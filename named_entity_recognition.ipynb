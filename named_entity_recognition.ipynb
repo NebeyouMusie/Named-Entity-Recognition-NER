{
  "nbformat": 4,
  "nbformat_minor": 0,
  "metadata": {
    "colab": {
      "provenance": []
    },
    "kernelspec": {
      "name": "python3",
      "display_name": "Python 3"
    },
    "language_info": {
      "name": "python"
    }
  },
  "cells": [
    {
      "cell_type": "markdown",
      "source": [
        "# Named Entity Recognition (NER)"
      ],
      "metadata": {
        "id": "wFtM8TznJ9vZ"
      }
    },
    {
      "cell_type": "code",
      "execution_count": 1,
      "metadata": {
        "id": "39FPdwZCJhF3"
      },
      "outputs": [],
      "source": [
        "# import necessary libraries\n",
        "import spacy\n",
        "\n",
        "#creating an object and loading the pre-trained model for \"English\"\n",
        "nlp = spacy.load('en_core_web_sm')"
      ]
    },
    {
      "cell_type": "markdown",
      "source": [
        "## Problem 1\n",
        "- Extract all the Geographical (cities, Countries, states) names from a given text"
      ],
      "metadata": {
        "id": "wsIJIjweKPio"
      }
    },
    {
      "cell_type": "code",
      "source": [
        "text = \"\"\"Kiran want to know the famous foods in each state of India. So, he opened Google and search for this question. Google showed that\n",
        "in Delhi it is Chaat, in Gujarat it is Dal Dhokli, in Tamilnadu it is Pongal, in Andhrapradesh it is Biryani, in Assam it is Papaya Khar,\n",
        "in Bihar it is Litti Chowkha and so on for all other states\"\"\"\n",
        "\n",
        "doc = nlp(text)\n",
        "\n",
        "location_names = []\n",
        "for ent in doc.ents:\n",
        "  if ent.label_ == 'GPE':\n",
        "    location_names.append(ent)\n",
        "\n",
        "# print the location names\n",
        "print('Location names: ', location_names)\n",
        "# print total locations\n",
        "print('Count:', len(location_names))"
      ],
      "metadata": {
        "colab": {
          "base_uri": "https://localhost:8080/"
        },
        "id": "WjpC4_1oKWX3",
        "outputId": "7d06f658-4538-4b22-ecce-fbc2bc0c2174"
      },
      "execution_count": 11,
      "outputs": [
        {
          "output_type": "stream",
          "name": "stdout",
          "text": [
            "Location names:  [India, Delhi, Gujarat, Tamilnadu, Pongal, Andhrapradesh, Assam, Bihar]\n",
            "Count: 8\n"
          ]
        }
      ]
    },
    {
      "cell_type": "markdown",
      "source": [
        "## Problem 2\n",
        "- Extract all the birth dates of cricketers in the given Text"
      ],
      "metadata": {
        "id": "sA7WkmOdLgP4"
      }
    },
    {
      "cell_type": "code",
      "source": [
        "text = \"\"\"Sachin Tendulkar was born on 24 April 1973, Virat Kholi was born on 5 November 1988, Dhoni was born on 7 July 1981\n",
        "and finally Ricky ponting was born on 19 December 1974.\"\"\"\n",
        "\n",
        "doc = nlp(text)\n",
        "\n",
        "birthday = []\n",
        "\n",
        "for ent in doc.ents:\n",
        "  if ent.label_ == 'DATE':\n",
        "    birthday.append(ent)\n",
        "\n",
        "# print birthdays\n",
        "print('Birth dates: ', birthday)\n",
        "# print total birthdays\n",
        "print('Count: ', len(birthday))"
      ],
      "metadata": {
        "colab": {
          "base_uri": "https://localhost:8080/"
        },
        "id": "SgvB6jTnLkSi",
        "outputId": "fc2e2333-7f8b-4dd0-829b-1bafefa2fc07"
      },
      "execution_count": 13,
      "outputs": [
        {
          "output_type": "stream",
          "name": "stdout",
          "text": [
            "Birth dates:  [24 April 1973, 5 November 1988, 7 July 1981, 19 December 1974]\n",
            "Count:  4\n"
          ]
        }
      ]
    }
  ]
}